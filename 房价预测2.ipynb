{
 "cells": [
  {
   "cell_type": "code",
   "execution_count": 64,
   "metadata": {},
   "outputs": [],
   "source": [
    "import tensorflow as tf\n",
    "import numpy as np\n",
    "import matplotlib.pyplot as plt\n",
    "import pandas as pd\n",
    "import seaborn as sns\n",
    "from scipy.stats import skew\n",
    "from sklearn import preprocessing\n"
   ]
  },
  {
   "cell_type": "markdown",
   "metadata": {},
   "source": [
    "# 读取数据"
   ]
  },
  {
   "cell_type": "code",
   "execution_count": 65,
   "metadata": {},
   "outputs": [],
   "source": [
    "#读取表格元素\n",
    "def getdata(inpath):\n",
    "        data = pd.read_csv(inpath)\n",
    "        data_num=data.loc[0:, ]\n",
    "        return data_num\n",
    "    "
   ]
  },
  {
   "cell_type": "markdown",
   "metadata": {},
   "source": [
    "# 创建测试集和训练集"
   ]
  },
  {
   "cell_type": "code",
   "execution_count": 66,
   "metadata": {},
   "outputs": [
    {
     "name": "stdout",
     "output_type": "stream",
     "text": [
      "[600.]\n"
     ]
    }
   ],
   "source": [
    "inpath1=\"E:\\machine_learning\\house\\house_train.csv\"\n",
    "inpath2=\"E:\\machine_learning\\house\\house_test.csv\"\n",
    "train_set=getdata(inpath1)\n",
    "test_set=getdata(inpath2)\n",
    "\n",
    "# print(train_set.shape)\n",
    "datanum_id=['green_rate','area','oriented','traffic','shockproof','school','crime_rate','pm25','price']\n",
    "data_x=[]\n",
    "test_x=[]\n",
    "\n",
    "\n",
    "# print(np.array(train_set[datanum_id[0]]))\n",
    "#把表格转成列\n",
    "for i in range(len(datanum_id)):\n",
    "    data_x.append(np.array(train_set[datanum_id[i]]))\n",
    "    \n",
    "for i in range(len(datanum_id)):\n",
    "    test_x.append(np.array(test_set[datanum_id[i]]))    \n",
    "\n",
    "#处理成矩阵\n",
    "train_np_x=np.array(data_x)\n",
    "\n",
    "test_np_x=np.array(test_x)\n",
    "\n",
    "\n",
    "\n",
    "#获取y\n",
    "train_np_y=train_np_x[8].reshape(-1,1)\n",
    "test_np_y=test_np_x[8].reshape(-1,1)\n",
    "# data_np_y=np.array(data_np_y)\n",
    "# data_np_y=data_np_y[:].T\n",
    "\n",
    "#获取x\n",
    "train_np_x=train_np_x[0:8]\n",
    "test_np_x=test_np_x[0:8]\n",
    "\n",
    "# print(\"start:\")\n",
    "# print(train_np_x)\n",
    "# print(\"end+++++++++++++++++++++++++++++\")\n",
    "# print(len(train_np_x[0]))\n",
    "\n",
    "print(train_np_y[1])\n",
    "\n",
    "# ################################################################################################可视化\n",
    "# train_copy_x=train_set.copy()\n",
    "# plt.plot(kind=\"scatter\",x=train_copy_x[1],y=train_np_y,alpha=0.1)"
   ]
  },
  {
   "cell_type": "markdown",
   "metadata": {},
   "source": [
    "# 归一化"
   ]
  },
  {
   "cell_type": "code",
   "execution_count": 67,
   "metadata": {},
   "outputs": [
    {
     "name": "stdout",
     "output_type": "stream",
     "text": [
      "[[-0.15381639]\n",
      " [-0.92289832]\n",
      " [-2.07652121]\n",
      " ...\n",
      " [-4.73241748]\n",
      " [-4.7785624 ]\n",
      " [-4.76318076]]\n"
     ]
    }
   ],
   "source": [
    "def Z_ScoreNormalization(x,mu,sigma):  ##mu平均值，sigma标准差\n",
    "    n=len(x)\n",
    "    for i in range(n):\n",
    "        x[i] = (x[i]- mu)/sigma\n",
    "    return x\n",
    "\n",
    "def Max_Min(x,max_,min_):\n",
    "    n=len(x)\n",
    "    for i in range(n):\n",
    "        x[i] = ((x[i]- min_)/(max_-min_))\n",
    "    return x\n",
    "\n",
    "\n",
    "for i in range(len(train_np_x)):\n",
    "    mu=np.max(train_np_x[i])\n",
    "    sigma=np.std(train_np_x[i])\n",
    "    min_=np.min(train_np_x[i])\n",
    "#     train_np_x[i]=Max_Min(train_np_x[i],mu,min_)\n",
    "    train_np_x[i]=Z_ScoreNormalization(train_np_x[i],mu,sigma)\n",
    "\n",
    "    \n",
    "# mu=np.max(train_np_y)\n",
    "# sigma=np.std(train_np_y)\n",
    "# min_=np.min(train_np_y)\n",
    "# #train_np_y=Max_Min(train_np_y,mu,min_)\n",
    "# train_np_y=Z_ScoreNormalization(train_np_y,mu,sigma)\n",
    "\n",
    "    \n",
    "train_np_x=train_np_x.T\n",
    "test_np_x=test_np_x.T\n",
    "\n",
    "# print(train_np_y)\n"
   ]
  },
  {
   "cell_type": "code",
   "execution_count": 68,
   "metadata": {},
   "outputs": [],
   "source": [
    "n_hidden_1=256\n",
    "n_hidden_2=128\n",
    "n_input=8\n",
    "n_output=1\n",
    "\n",
    "batch_size=128"
   ]
  },
  {
   "cell_type": "code",
   "execution_count": 69,
   "metadata": {},
   "outputs": [],
   "source": [
    "x=tf.placeholder(\"float32\",[None,n_input])\n",
    "y=tf.placeholder(\"float32\",[None,n_output])\n",
    "\n",
    "weights={\n",
    "    \"w1\":tf.Variable(tf.random_normal([n_input,n_hidden_1]),dtype=\"float32\"),\n",
    "    \"w2\":tf.Variable(tf.random_normal([n_hidden_1,n_hidden_2]),dtype=\"float32\"),\n",
    "    \"out\":tf.Variable(tf.random_normal([n_hidden_2,n_output]),dtype=\"float32\")\n",
    "}\n",
    "\n",
    "biases={\n",
    "    \"b1\":tf.Variable(tf.random_normal([n_hidden_1]), dtype=\"float32\"),\n",
    "    \"b2\":tf.Variable(tf.random_normal([n_hidden_2]), dtype=\"float32\"),\n",
    "    \"out\":tf.Variable(tf.random_normal([n_output]), dtype=\"float32\")\n",
    "}"
   ]
  },
  {
   "cell_type": "code",
   "execution_count": 1,
   "metadata": {},
   "outputs": [
    {
     "ename": "NameError",
     "evalue": "name 'x' is not defined",
     "output_type": "error",
     "traceback": [
      "\u001b[1;31m---------------------------------------------------------------------------\u001b[0m",
      "\u001b[1;31mNameError\u001b[0m                                 Traceback (most recent call last)",
      "\u001b[1;32m<ipython-input-1-e7a039b141ac>\u001b[0m in \u001b[0;36m<module>\u001b[1;34m\u001b[0m\n\u001b[0;32m      4\u001b[0m     \u001b[1;32mreturn\u001b[0m \u001b[1;33m(\u001b[0m\u001b[0mtf\u001b[0m\u001b[1;33m.\u001b[0m\u001b[0mnn\u001b[0m\u001b[1;33m.\u001b[0m\u001b[0mtanh\u001b[0m\u001b[1;33m(\u001b[0m\u001b[0mtf\u001b[0m\u001b[1;33m.\u001b[0m\u001b[0madd\u001b[0m\u001b[1;33m(\u001b[0m\u001b[0mtf\u001b[0m\u001b[1;33m.\u001b[0m\u001b[0mmatmul\u001b[0m\u001b[1;33m(\u001b[0m\u001b[0mtf\u001b[0m\u001b[1;33m.\u001b[0m\u001b[0mcast\u001b[0m\u001b[1;33m(\u001b[0m\u001b[0mlayer2\u001b[0m\u001b[1;33m,\u001b[0m\u001b[0mtf\u001b[0m\u001b[1;33m.\u001b[0m\u001b[0mfloat32\u001b[0m\u001b[1;33m)\u001b[0m\u001b[1;33m,\u001b[0m\u001b[0m_weights\u001b[0m\u001b[1;33m[\u001b[0m\u001b[1;34m\"out\"\u001b[0m\u001b[1;33m]\u001b[0m\u001b[1;33m)\u001b[0m\u001b[1;33m,\u001b[0m\u001b[0m_biases\u001b[0m\u001b[1;33m[\u001b[0m\u001b[1;34m\"out\"\u001b[0m\u001b[1;33m]\u001b[0m\u001b[1;33m)\u001b[0m\u001b[1;33m)\u001b[0m\u001b[1;33m)\u001b[0m\u001b[1;33m\u001b[0m\u001b[1;33m\u001b[0m\u001b[0m\n\u001b[0;32m      5\u001b[0m \u001b[1;33m\u001b[0m\u001b[0m\n\u001b[1;32m----> 6\u001b[1;33m \u001b[0mpre\u001b[0m\u001b[1;33m=\u001b[0m\u001b[0mmultilayer_perceptron\u001b[0m\u001b[1;33m(\u001b[0m\u001b[0mx\u001b[0m\u001b[1;33m,\u001b[0m\u001b[0mweights\u001b[0m\u001b[1;33m,\u001b[0m\u001b[0mbiases\u001b[0m\u001b[1;33m)\u001b[0m\u001b[1;33m\u001b[0m\u001b[1;33m\u001b[0m\u001b[0m\n\u001b[0m\u001b[0;32m      7\u001b[0m \u001b[1;33m\u001b[0m\u001b[0m\n\u001b[0;32m      8\u001b[0m \u001b[1;33m\u001b[0m\u001b[0m\n",
      "\u001b[1;31mNameError\u001b[0m: name 'x' is not defined"
     ]
    }
   ],
   "source": [
    "def multilayer_perceptron(_x,_weights,_biases):\n",
    "    layer1=tf.nn.tanh(tf.add(tf.matmul(tf.cast(_x,tf.float32),_weights[\"w1\"]),_biases[\"b1\"]))\n",
    "    layer2=tf.nn.tanh(tf.add(tf.matmul(tf.cast(layer1,tf.float32),_weights[\"w2\"]),_biases[\"b2\"]))\n",
    "    return (tf.nn.tanh(tf.add(tf.matmul(tf.cast(layer2,tf.float32),_weights[\"out\"]),_biases[\"out\"])))\n",
    "\n",
    "pre=multilayer_perceptron(x,weights,biases)\n",
    "\n",
    "\n",
    "\n",
    "loss=tf.reduce_mean(tf.reduce_sum(tf.square(y-pre),reduction_indices=[1]))  \n",
    "train_step=tf.train.GradientDescentOptimizer(0.0001).minimize(loss)                      \n",
    "# correct=tf.equal(pre,y_train)\n",
    "\n",
    "init=tf.global_variables_initializer()\n",
    "\n",
    "sess=tf.Session()\n",
    "sess.run(init)\n",
    "\n",
    "batch_size=100\n",
    "\n",
    "for i in range(100):\n",
    "    sess.run(train_step,feed_dict={x:train_np_x,y:train_np_y})\n",
    "    if i%5==0:\n",
    "        print(\"预测值：\")\n",
    "        prediction_value=sess.run(pre,feed_dict={x:train_np_x})\n",
    "        print(prediction_value)\n",
    "        print(\"loss=\",sess.run(loss,feed_dict={x:train_np_x,y:train_np_y}))"
   ]
  },
  {
   "cell_type": "code",
   "execution_count": null,
   "metadata": {},
   "outputs": [],
   "source": []
  },
  {
   "cell_type": "code",
   "execution_count": null,
   "metadata": {},
   "outputs": [],
   "source": []
  }
 ],
 "metadata": {
  "kernelspec": {
   "display_name": "Python 3",
   "language": "python",
   "name": "python3"
  },
  "language_info": {
   "codemirror_mode": {
    "name": "ipython",
    "version": 3
   },
   "file_extension": ".py",
   "mimetype": "text/x-python",
   "name": "python",
   "nbconvert_exporter": "python",
   "pygments_lexer": "ipython3",
   "version": "3.7.3"
  }
 },
 "nbformat": 4,
 "nbformat_minor": 2
}
